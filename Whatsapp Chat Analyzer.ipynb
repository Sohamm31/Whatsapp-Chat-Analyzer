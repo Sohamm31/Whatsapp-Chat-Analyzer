{
 "cells": [
  {
   "cell_type": "code",
   "execution_count": 240,
   "id": "9b5cd307-8f1e-4569-8b62-94012fff673e",
   "metadata": {},
   "outputs": [],
   "source": [
    "import re\n",
    "import pandas as pd\n",
    "import matplotlib.pyplot as plt"
   ]
  },
  {
   "cell_type": "code",
   "execution_count": 242,
   "id": "90d77276-f935-4bce-bd38-e2b34212f029",
   "metadata": {},
   "outputs": [],
   "source": [
    "f = open(\"Sahil Chat 24hrs.txt\",\"r\",encoding = \"utf-8\")"
   ]
  },
  {
   "cell_type": "code",
   "execution_count": 244,
   "id": "a7025f0d-8fb4-4ebf-8ffc-fed23785eb86",
   "metadata": {},
   "outputs": [],
   "source": [
    "data = f.read()"
   ]
  },
  {
   "cell_type": "code",
   "execution_count": 246,
   "id": "62a436e4-a223-42c1-bd08-304758ec8d2f",
   "metadata": {},
   "outputs": [
    {
     "name": "stderr",
     "output_type": "stream",
     "text": [
      "<>:1: SyntaxWarning: invalid escape sequence '\\d'\n",
      "<>:1: SyntaxWarning: invalid escape sequence '\\d'\n",
      "/var/folders/vr/k31rtn_168v7kvg7k8xq_v540000gn/T/ipykernel_5424/1218366891.py:1: SyntaxWarning: invalid escape sequence '\\d'\n",
      "  pattern = '(\\d{2}/\\d{2}/\\d{2}), (\\d{2}:\\d{2}:\\d{2}) - ([^:]+): (.+)'\n"
     ]
    }
   ],
   "source": [
    "pattern = '(\\d{2}/\\d{2}/\\d{2}), (\\d{2}:\\d{2}:\\d{2}) - ([^:]+): (.+)'\n",
    "\n"
   ]
  },
  {
   "cell_type": "code",
   "execution_count": null,
   "id": "e1286211-0649-4aa2-9b94-3a176707b081",
   "metadata": {},
   "outputs": [],
   "source": []
  },
  {
   "cell_type": "code",
   "execution_count": null,
   "id": "5d29edc0-7dcc-4503-b34a-d65518d8c563",
   "metadata": {},
   "outputs": [],
   "source": []
  },
  {
   "cell_type": "code",
   "execution_count": 250,
   "id": "cf6b9c2a-67d9-4156-9148-207884191289",
   "metadata": {},
   "outputs": [],
   "source": [
    "def convert_whatsapp_format(data):\n",
    "    # Regular expression to match the original format\n",
    "    pattern = r\"\\[(\\d{1,2}/\\d{1,2}/\\d{2,4}, \\d{1,2}:\\d{2}:\\d{2})\\] ([^:]+): (.+)\"\n",
    "    \n",
    "    # Replace with the new format\n",
    "    converted_text = re.sub(pattern, r\"\\1 - \\2: \\3\", data)\n",
    "    \n",
    "    return converted_text\n",
    "\n",
    "converted_text = convert_whatsapp_format(data)\n"
   ]
  },
  {
   "cell_type": "code",
   "execution_count": null,
   "id": "3fc0362f-5a9a-4e6b-bc15-4c05ac6a77a8",
   "metadata": {},
   "outputs": [],
   "source": []
  },
  {
   "cell_type": "code",
   "execution_count": 254,
   "id": "aff9a1f6-f6bb-43ce-83f0-60aa51187fcb",
   "metadata": {},
   "outputs": [],
   "source": [
    "import re\n",
    "\n",
    "# Replace with the actual large text\n",
    "data = converted_text\n",
    "\n",
    "# Regex pattern to extract date, time, sender, and message\n",
    "pattern = r\"(\\d{1,2}/\\d{1,2}/\\d{2,4}),\\s(\\d{1,2}:\\d{2}:\\d{2})\\s-\\s([^:]+):\\s(.*)\"\n",
    "\n",
    "# Initialize lists\n",
    "date_time_list = []\n",
    "sender_message_list = []\n",
    "\n",
    "# Process the large text line by line\n",
    "for line in text.split('\\n'):\n",
    "    # Apply regex only on non-empty lines\n",
    "    if line.strip():\n",
    "        matches = re.findall(pattern, line)\n",
    "        if matches:\n",
    "            # Extract and store date-time and sender-message pairs\n",
    "            for match in matches:\n",
    "                date_time_list.append(f\"{match[0]}, {match[1]}\")\n",
    "                sender_message_list.append(f\"{match[2]}: {match[3]}\")\n",
    "\n"
   ]
  },
  {
   "cell_type": "code",
   "execution_count": null,
   "id": "276c4764-3a48-4935-bf8e-5f9c32a27916",
   "metadata": {},
   "outputs": [],
   "source": []
  },
  {
   "cell_type": "code",
   "execution_count": 257,
   "id": "62e11d7b-a2d7-4b65-9215-5bb41536241c",
   "metadata": {},
   "outputs": [
    {
     "data": {
      "text/html": [
       "<div>\n",
       "<style scoped>\n",
       "    .dataframe tbody tr th:only-of-type {\n",
       "        vertical-align: middle;\n",
       "    }\n",
       "\n",
       "    .dataframe tbody tr th {\n",
       "        vertical-align: top;\n",
       "    }\n",
       "\n",
       "    .dataframe thead th {\n",
       "        text-align: right;\n",
       "    }\n",
       "</style>\n",
       "<table border=\"1\" class=\"dataframe\">\n",
       "  <thead>\n",
       "    <tr style=\"text-align: right;\">\n",
       "      <th></th>\n",
       "      <th>User Messages</th>\n",
       "      <th>date</th>\n",
       "    </tr>\n",
       "  </thead>\n",
       "  <tbody>\n",
       "    <tr>\n",
       "      <th>0</th>\n",
       "      <td>Sahil  Rathod : ‎Messages and calls are end-to...</td>\n",
       "      <td>2021-12-08 12:08:53</td>\n",
       "    </tr>\n",
       "    <tr>\n",
       "      <th>1</th>\n",
       "      <td>Soham: Nahi re Main Soham Khopkar hu</td>\n",
       "      <td>2021-12-08 12:21:12</td>\n",
       "    </tr>\n",
       "    <tr>\n",
       "      <th>2</th>\n",
       "      <td>Sahil  Rathod : Ok</td>\n",
       "      <td>2021-12-08 12:22:19</td>\n",
       "    </tr>\n",
       "    <tr>\n",
       "      <th>3</th>\n",
       "      <td>Sahil  Rathod : Bol</td>\n",
       "      <td>2021-12-08 15:11:21</td>\n",
       "    </tr>\n",
       "    <tr>\n",
       "      <th>4</th>\n",
       "      <td>Sahil  Rathod : Call kyu kiya tha</td>\n",
       "      <td>2021-12-08 15:11:27</td>\n",
       "    </tr>\n",
       "    <tr>\n",
       "      <th>...</th>\n",
       "      <td>...</td>\n",
       "      <td>...</td>\n",
       "    </tr>\n",
       "    <tr>\n",
       "      <th>32000</th>\n",
       "      <td>Soham: Kyu?</td>\n",
       "      <td>2023-09-29 15:37:13</td>\n",
       "    </tr>\n",
       "    <tr>\n",
       "      <th>32001</th>\n",
       "      <td>Sahil  Rathod : vpn samjh re</td>\n",
       "      <td>2023-09-29 15:37:20</td>\n",
       "    </tr>\n",
       "    <tr>\n",
       "      <th>32002</th>\n",
       "      <td>Soham: Badhiya💦✊🏻</td>\n",
       "      <td>2023-09-29 15:37:28</td>\n",
       "    </tr>\n",
       "    <tr>\n",
       "      <th>32003</th>\n",
       "      <td>Soham: Happy Birthday Bhai🥳</td>\n",
       "      <td>2024-01-25 20:01:49</td>\n",
       "    </tr>\n",
       "    <tr>\n",
       "      <th>32004</th>\n",
       "      <td>Sahil  Rathod : Thanks!</td>\n",
       "      <td>2024-01-25 20:02:16</td>\n",
       "    </tr>\n",
       "  </tbody>\n",
       "</table>\n",
       "<p>32005 rows × 2 columns</p>\n",
       "</div>"
      ],
      "text/plain": [
       "                                           User Messages                date\n",
       "0      Sahil  Rathod : ‎Messages and calls are end-to... 2021-12-08 12:08:53\n",
       "1                   Soham: Nahi re Main Soham Khopkar hu 2021-12-08 12:21:12\n",
       "2                                     Sahil  Rathod : Ok 2021-12-08 12:22:19\n",
       "3                                    Sahil  Rathod : Bol 2021-12-08 15:11:21\n",
       "4                      Sahil  Rathod : Call kyu kiya tha 2021-12-08 15:11:27\n",
       "...                                                  ...                 ...\n",
       "32000                                        Soham: Kyu? 2023-09-29 15:37:13\n",
       "32001                       Sahil  Rathod : vpn samjh re 2023-09-29 15:37:20\n",
       "32002                                  Soham: Badhiya💦✊🏻 2023-09-29 15:37:28\n",
       "32003                        Soham: Happy Birthday Bhai🥳 2024-01-25 20:01:49\n",
       "32004                            Sahil  Rathod : Thanks! 2024-01-25 20:02:16\n",
       "\n",
       "[32005 rows x 2 columns]"
      ]
     },
     "execution_count": 257,
     "metadata": {},
     "output_type": "execute_result"
    }
   ],
   "source": [
    "df = pd.DataFrame({\"User Messages\":sender_message_list,\"Messages_date\":date_time_list})\n",
    "df[\"Messages_date\"] = pd.to_datetime(df[\"Messages_date\"], format=\"%d/%m/%y, %H:%M:%S\")\n",
    "df.rename(columns = {\"Messages_date\":\"date\"},inplace = True)\n",
    "df"
   ]
  },
  {
   "cell_type": "code",
   "execution_count": 259,
   "id": "654e777f-22f6-4f41-b110-288b7a02c351",
   "metadata": {},
   "outputs": [
    {
     "data": {
      "text/plain": [
       "(32005, 2)"
      ]
     },
     "execution_count": 259,
     "metadata": {},
     "output_type": "execute_result"
    }
   ],
   "source": [
    "df.shape"
   ]
  },
  {
   "cell_type": "code",
   "execution_count": 261,
   "id": "84bce515-3f6b-44cb-8de2-c52546345c7e",
   "metadata": {},
   "outputs": [
    {
     "name": "stdout",
     "output_type": "stream",
     "text": [
      "         Username                                            Message\n",
      "0  Sahil  Rathod   ‎Messages and calls are end-to-end encrypted. ...\n",
      "1           Soham                      Nahi re Main Soham Khopkar hu\n",
      "2  Sahil  Rathod                                                  Ok\n",
      "3  Sahil  Rathod                                                 Bol\n",
      "4  Sahil  Rathod                                   Call kyu kiya tha\n"
     ]
    }
   ],
   "source": [
    "df['Username'] = df['User Messages'].str.extract(r\"([^:]+):\")  # Extracts everything before the colon\n",
    "\n",
    "# Create a new column 'Message' to extract the message\n",
    "df['Message'] = df['User Messages'].str.extract(r\":\\s*(.*)\")  # Extracts everything after the colon\n",
    "\n",
    "# Print the DataFrame to verify the new columns\n",
    "print(df[['Username', 'Message']].head())"
   ]
  },
  {
   "cell_type": "code",
   "execution_count": 263,
   "id": "f92ae9ab-7b8e-42e8-90df-906ec37e77e3",
   "metadata": {},
   "outputs": [
    {
     "data": {
      "text/html": [
       "<div>\n",
       "<style scoped>\n",
       "    .dataframe tbody tr th:only-of-type {\n",
       "        vertical-align: middle;\n",
       "    }\n",
       "\n",
       "    .dataframe tbody tr th {\n",
       "        vertical-align: top;\n",
       "    }\n",
       "\n",
       "    .dataframe thead th {\n",
       "        text-align: right;\n",
       "    }\n",
       "</style>\n",
       "<table border=\"1\" class=\"dataframe\">\n",
       "  <thead>\n",
       "    <tr style=\"text-align: right;\">\n",
       "      <th></th>\n",
       "      <th>User Messages</th>\n",
       "      <th>date</th>\n",
       "      <th>Username</th>\n",
       "      <th>Message</th>\n",
       "    </tr>\n",
       "  </thead>\n",
       "  <tbody>\n",
       "    <tr>\n",
       "      <th>0</th>\n",
       "      <td>Sahil  Rathod : ‎Messages and calls are end-to...</td>\n",
       "      <td>2021-12-08 12:08:53</td>\n",
       "      <td>Sahil  Rathod</td>\n",
       "      <td>‎Messages and calls are end-to-end encrypted. ...</td>\n",
       "    </tr>\n",
       "    <tr>\n",
       "      <th>1</th>\n",
       "      <td>Soham: Nahi re Main Soham Khopkar hu</td>\n",
       "      <td>2021-12-08 12:21:12</td>\n",
       "      <td>Soham</td>\n",
       "      <td>Nahi re Main Soham Khopkar hu</td>\n",
       "    </tr>\n",
       "    <tr>\n",
       "      <th>2</th>\n",
       "      <td>Sahil  Rathod : Ok</td>\n",
       "      <td>2021-12-08 12:22:19</td>\n",
       "      <td>Sahil  Rathod</td>\n",
       "      <td>Ok</td>\n",
       "    </tr>\n",
       "    <tr>\n",
       "      <th>3</th>\n",
       "      <td>Sahil  Rathod : Bol</td>\n",
       "      <td>2021-12-08 15:11:21</td>\n",
       "      <td>Sahil  Rathod</td>\n",
       "      <td>Bol</td>\n",
       "    </tr>\n",
       "    <tr>\n",
       "      <th>4</th>\n",
       "      <td>Sahil  Rathod : Call kyu kiya tha</td>\n",
       "      <td>2021-12-08 15:11:27</td>\n",
       "      <td>Sahil  Rathod</td>\n",
       "      <td>Call kyu kiya tha</td>\n",
       "    </tr>\n",
       "  </tbody>\n",
       "</table>\n",
       "</div>"
      ],
      "text/plain": [
       "                                       User Messages                date  \\\n",
       "0  Sahil  Rathod : ‎Messages and calls are end-to... 2021-12-08 12:08:53   \n",
       "1               Soham: Nahi re Main Soham Khopkar hu 2021-12-08 12:21:12   \n",
       "2                                 Sahil  Rathod : Ok 2021-12-08 12:22:19   \n",
       "3                                Sahil  Rathod : Bol 2021-12-08 15:11:21   \n",
       "4                  Sahil  Rathod : Call kyu kiya tha 2021-12-08 15:11:27   \n",
       "\n",
       "         Username                                            Message  \n",
       "0  Sahil  Rathod   ‎Messages and calls are end-to-end encrypted. ...  \n",
       "1           Soham                      Nahi re Main Soham Khopkar hu  \n",
       "2  Sahil  Rathod                                                  Ok  \n",
       "3  Sahil  Rathod                                                 Bol  \n",
       "4  Sahil  Rathod                                   Call kyu kiya tha  "
      ]
     },
     "execution_count": 263,
     "metadata": {},
     "output_type": "execute_result"
    }
   ],
   "source": [
    "df.head()"
   ]
  },
  {
   "cell_type": "code",
   "execution_count": 265,
   "id": "3b1ff022-dd39-4ffb-bfe8-906ffa6ac5a3",
   "metadata": {},
   "outputs": [],
   "source": [
    "df = df[[\"date\",\"Username\",\"Message\"]]"
   ]
  },
  {
   "cell_type": "code",
   "execution_count": 267,
   "id": "3770042d-068b-4cd4-aedc-8f4253c941e5",
   "metadata": {},
   "outputs": [
    {
     "data": {
      "text/html": [
       "<div>\n",
       "<style scoped>\n",
       "    .dataframe tbody tr th:only-of-type {\n",
       "        vertical-align: middle;\n",
       "    }\n",
       "\n",
       "    .dataframe tbody tr th {\n",
       "        vertical-align: top;\n",
       "    }\n",
       "\n",
       "    .dataframe thead th {\n",
       "        text-align: right;\n",
       "    }\n",
       "</style>\n",
       "<table border=\"1\" class=\"dataframe\">\n",
       "  <thead>\n",
       "    <tr style=\"text-align: right;\">\n",
       "      <th></th>\n",
       "      <th>date</th>\n",
       "      <th>Username</th>\n",
       "      <th>Message</th>\n",
       "    </tr>\n",
       "  </thead>\n",
       "  <tbody>\n",
       "    <tr>\n",
       "      <th>0</th>\n",
       "      <td>2021-12-08 12:08:53</td>\n",
       "      <td>Sahil  Rathod</td>\n",
       "      <td>‎Messages and calls are end-to-end encrypted. ...</td>\n",
       "    </tr>\n",
       "    <tr>\n",
       "      <th>1</th>\n",
       "      <td>2021-12-08 12:21:12</td>\n",
       "      <td>Soham</td>\n",
       "      <td>Nahi re Main Soham Khopkar hu</td>\n",
       "    </tr>\n",
       "    <tr>\n",
       "      <th>2</th>\n",
       "      <td>2021-12-08 12:22:19</td>\n",
       "      <td>Sahil  Rathod</td>\n",
       "      <td>Ok</td>\n",
       "    </tr>\n",
       "    <tr>\n",
       "      <th>3</th>\n",
       "      <td>2021-12-08 15:11:21</td>\n",
       "      <td>Sahil  Rathod</td>\n",
       "      <td>Bol</td>\n",
       "    </tr>\n",
       "    <tr>\n",
       "      <th>4</th>\n",
       "      <td>2021-12-08 15:11:27</td>\n",
       "      <td>Sahil  Rathod</td>\n",
       "      <td>Call kyu kiya tha</td>\n",
       "    </tr>\n",
       "  </tbody>\n",
       "</table>\n",
       "</div>"
      ],
      "text/plain": [
       "                 date        Username  \\\n",
       "0 2021-12-08 12:08:53  Sahil  Rathod    \n",
       "1 2021-12-08 12:21:12           Soham   \n",
       "2 2021-12-08 12:22:19  Sahil  Rathod    \n",
       "3 2021-12-08 15:11:21  Sahil  Rathod    \n",
       "4 2021-12-08 15:11:27  Sahil  Rathod    \n",
       "\n",
       "                                             Message  \n",
       "0  ‎Messages and calls are end-to-end encrypted. ...  \n",
       "1                      Nahi re Main Soham Khopkar hu  \n",
       "2                                                 Ok  \n",
       "3                                                Bol  \n",
       "4                                  Call kyu kiya tha  "
      ]
     },
     "execution_count": 267,
     "metadata": {},
     "output_type": "execute_result"
    }
   ],
   "source": [
    "df.head()"
   ]
  },
  {
   "cell_type": "code",
   "execution_count": 269,
   "id": "94b7a7e6-7582-4dc6-b3c4-4d7aa0b68dda",
   "metadata": {},
   "outputs": [
    {
     "data": {
      "text/plain": [
       "<Axes: ylabel='count'>"
      ]
     },
     "execution_count": 269,
     "metadata": {},
     "output_type": "execute_result"
    },
    {
     "data": {
      "image/png": "[encoded data removed]",
      "text/plain": [
       "<Figure size 640x480 with 1 Axes>"
      ]
     },
     "metadata": {},
     "output_type": "display_data"
    }
   ],
   "source": [
    "df[\"Username\"].value_counts().plot(kind = \"pie\",autopct='%1.1f%%')"
   ]
  },
  {
   "cell_type": "code",
   "execution_count": 271,
   "id": "1621a5b2-a5dd-41e9-b710-1d4211f81f37",
   "metadata": {},
   "outputs": [],
   "source": [
    "df[\"year\"] = df[\"date\"].dt.year"
   ]
  },
  {
   "cell_type": "code",
   "execution_count": 273,
   "id": "e2737365-797f-4e94-85b5-99be9f6ea0a3",
   "metadata": {},
   "outputs": [],
   "source": [
    "df[\"month\"] = df[\"date\"].dt.month"
   ]
  },
  {
   "cell_type": "code",
   "execution_count": 275,
   "id": "9bd8d9fb-2db9-4544-86bc-d5a76f736747",
   "metadata": {},
   "outputs": [],
   "source": [
    "df[\"day\"] = df[\"date\"].dt.day"
   ]
  },
  {
   "cell_type": "code",
   "execution_count": 277,
   "id": "eb2f37a2-213b-46b1-adbf-c345484b7d65",
   "metadata": {},
   "outputs": [],
   "source": [
    "df[\"hour\"] = df[\"date\"].dt.hour"
   ]
  },
  {
   "cell_type": "code",
   "execution_count": 279,
   "id": "c4df846f-ea25-437e-be65-79a2b0c29956",
   "metadata": {},
   "outputs": [],
   "source": [
    "df[\"minute\"] = df[\"date\"].dt.minute"
   ]
  },
  {
   "cell_type": "code",
   "execution_count": 281,
   "id": "50f1bcab-7561-41d0-9993-939cc9afcd48",
   "metadata": {},
   "outputs": [
    {
     "data": {
      "text/html": [
       "<div>\n",
       "<style scoped>\n",
       "    .dataframe tbody tr th:only-of-type {\n",
       "        vertical-align: middle;\n",
       "    }\n",
       "\n",
       "    .dataframe tbody tr th {\n",
       "        vertical-align: top;\n",
       "    }\n",
       "\n",
       "    .dataframe thead th {\n",
       "        text-align: right;\n",
       "    }\n",
       "</style>\n",
       "<table border=\"1\" class=\"dataframe\">\n",
       "  <thead>\n",
       "    <tr style=\"text-align: right;\">\n",
       "      <th></th>\n",
       "      <th>date</th>\n",
       "      <th>Username</th>\n",
       "      <th>Message</th>\n",
       "      <th>year</th>\n",
       "      <th>month</th>\n",
       "      <th>day</th>\n",
       "      <th>hour</th>\n",
       "      <th>minute</th>\n",
       "    </tr>\n",
       "  </thead>\n",
       "  <tbody>\n",
       "    <tr>\n",
       "      <th>0</th>\n",
       "      <td>2021-12-08 12:08:53</td>\n",
       "      <td>Sahil  Rathod</td>\n",
       "      <td>‎Messages and calls are end-to-end encrypted. ...</td>\n",
       "      <td>2021</td>\n",
       "      <td>12</td>\n",
       "      <td>8</td>\n",
       "      <td>12</td>\n",
       "      <td>8</td>\n",
       "    </tr>\n",
       "    <tr>\n",
       "      <th>1</th>\n",
       "      <td>2021-12-08 12:21:12</td>\n",
       "      <td>Soham</td>\n",
       "      <td>Nahi re Main Soham Khopkar hu</td>\n",
       "      <td>2021</td>\n",
       "      <td>12</td>\n",
       "      <td>8</td>\n",
       "      <td>12</td>\n",
       "      <td>21</td>\n",
       "    </tr>\n",
       "    <tr>\n",
       "      <th>2</th>\n",
       "      <td>2021-12-08 12:22:19</td>\n",
       "      <td>Sahil  Rathod</td>\n",
       "      <td>Ok</td>\n",
       "      <td>2021</td>\n",
       "      <td>12</td>\n",
       "      <td>8</td>\n",
       "      <td>12</td>\n",
       "      <td>22</td>\n",
       "    </tr>\n",
       "    <tr>\n",
       "      <th>3</th>\n",
       "      <td>2021-12-08 15:11:21</td>\n",
       "      <td>Sahil  Rathod</td>\n",
       "      <td>Bol</td>\n",
       "      <td>2021</td>\n",
       "      <td>12</td>\n",
       "      <td>8</td>\n",
       "      <td>15</td>\n",
       "      <td>11</td>\n",
       "    </tr>\n",
       "    <tr>\n",
       "      <th>4</th>\n",
       "      <td>2021-12-08 15:11:27</td>\n",
       "      <td>Sahil  Rathod</td>\n",
       "      <td>Call kyu kiya tha</td>\n",
       "      <td>2021</td>\n",
       "      <td>12</td>\n",
       "      <td>8</td>\n",
       "      <td>15</td>\n",
       "      <td>11</td>\n",
       "    </tr>\n",
       "  </tbody>\n",
       "</table>\n",
       "</div>"
      ],
      "text/plain": [
       "                 date        Username  \\\n",
       "0 2021-12-08 12:08:53  Sahil  Rathod    \n",
       "1 2021-12-08 12:21:12           Soham   \n",
       "2 2021-12-08 12:22:19  Sahil  Rathod    \n",
       "3 2021-12-08 15:11:21  Sahil  Rathod    \n",
       "4 2021-12-08 15:11:27  Sahil  Rathod    \n",
       "\n",
       "                                             Message  year  month  day  hour  \\\n",
       "0  ‎Messages and calls are end-to-end encrypted. ...  2021     12    8    12   \n",
       "1                      Nahi re Main Soham Khopkar hu  2021     12    8    12   \n",
       "2                                                 Ok  2021     12    8    12   \n",
       "3                                                Bol  2021     12    8    15   \n",
       "4                                  Call kyu kiya tha  2021     12    8    15   \n",
       "\n",
       "   minute  \n",
       "0       8  \n",
       "1      21  \n",
       "2      22  \n",
       "3      11  \n",
       "4      11  "
      ]
     },
     "execution_count": 281,
     "metadata": {},
     "output_type": "execute_result"
    }
   ],
   "source": [
    "df.head()"
   ]
  },
  {
   "cell_type": "code",
   "execution_count": 283,
   "id": "1869ddca-8210-4fb1-90e0-920a064346bc",
   "metadata": {},
   "outputs": [
    {
     "data": {
      "text/plain": [
       "<Axes: xlabel='year'>"
      ]
     },
     "execution_count": 283,
     "metadata": {},
     "output_type": "execute_result"
    },
    {
     "data": {
      "image/png": "[encoded data removed]",
      "text/plain": [
       "<Figure size 640x480 with 1 Axes>"
      ]
     },
     "metadata": {},
     "output_type": "display_data"
    }
   ],
   "source": [
    "df[\"year\"].value_counts().plot(kind = \"bar\")"
   ]
  },
  {
   "cell_type": "code",
   "execution_count": 288,
   "id": "9226c870-28fa-4e49-8fdc-0aebfc0ebf38",
   "metadata": {},
   "outputs": [],
   "source": [
    " new_df = df[df[\"Username\"] == \"Soham\"].shape[0]"
   ]
  },
  {
   "cell_type": "code",
   "execution_count": 290,
   "id": "12218fc9-33f3-4a7b-a12d-0387855177b1",
   "metadata": {},
   "outputs": [
    {
     "data": {
      "text/plain": [
       "11438"
      ]
     },
     "execution_count": 290,
     "metadata": {},
     "output_type": "execute_result"
    }
   ],
   "source": [
    "new_df"
   ]
  },
  {
   "cell_type": "code",
   "execution_count": 312,
   "id": "815509e7-1504-4d2b-b455-0253513e514f",
   "metadata": {},
   "outputs": [],
   "source": [
    "num_media_messages = df[df[\"Message\"].str.contains(\"image omitted|video omitted\", na=False)].shape[0]"
   ]
  },
  {
   "cell_type": "code",
   "execution_count": 316,
   "id": "0b2c1d0a-ec77-4d62-ba30-864e2d6cde39",
   "metadata": {},
   "outputs": [
    {
     "data": {
      "text/plain": [
       "77"
      ]
     },
     "execution_count": 316,
     "metadata": {},
     "output_type": "execute_result"
    }
   ],
   "source": [
    "media_df"
   ]
  },
  {
   "cell_type": "code",
   "execution_count": 318,
   "id": "5ec6e531-da3a-4eb4-97bb-ef0ff6cca112",
   "metadata": {},
   "outputs": [],
   "source": [
    "doc_messages = df[df[\"Message\"].str.contains(\"document omitted\", na=False)].shape[0]"
   ]
  },
  {
   "cell_type": "code",
   "execution_count": 320,
   "id": "a4b7c0e0-c20a-4492-ab81-c528d16a76da",
   "metadata": {},
   "outputs": [
    {
     "data": {
      "text/plain": [
       "3"
      ]
     },
     "execution_count": 320,
     "metadata": {},
     "output_type": "execute_result"
    }
   ],
   "source": [
    "doc_messages"
   ]
  },
  {
   "cell_type": "code",
   "execution_count": 344,
   "id": "e3f30c79-4961-4df8-92c7-4aaa0983d65a",
   "metadata": {},
   "outputs": [
    {
     "data": {
      "text/html": [
       "<div>\n",
       "<style scoped>\n",
       "    .dataframe tbody tr th:only-of-type {\n",
       "        vertical-align: middle;\n",
       "    }\n",
       "\n",
       "    .dataframe tbody tr th {\n",
       "        vertical-align: top;\n",
       "    }\n",
       "\n",
       "    .dataframe thead th {\n",
       "        text-align: right;\n",
       "    }\n",
       "</style>\n",
       "<table border=\"1\" class=\"dataframe\">\n",
       "  <thead>\n",
       "    <tr style=\"text-align: right;\">\n",
       "      <th></th>\n",
       "      <th>Name</th>\n",
       "      <th>Percent</th>\n",
       "    </tr>\n",
       "  </thead>\n",
       "  <tbody>\n",
       "    <tr>\n",
       "      <th>0</th>\n",
       "      <td>Sahil  Rathod</td>\n",
       "      <td>64.26</td>\n",
       "    </tr>\n",
       "    <tr>\n",
       "      <th>1</th>\n",
       "      <td>Soham</td>\n",
       "      <td>35.74</td>\n",
       "    </tr>\n",
       "  </tbody>\n",
       "</table>\n",
       "</div>"
      ],
      "text/plain": [
       "             Name  Percent\n",
       "0  Sahil  Rathod     64.26\n",
       "1           Soham    35.74"
      ]
     },
     "execution_count": 344,
     "metadata": {},
     "output_type": "execute_result"
    }
   ],
   "source": [
    "df = round(df[\"Username\"].value_counts()/df.shape[0]*100,2).reset_index().rename(columns = {\"count\":\"Percent\",\"Username\":\"Name\"})"
   ]
  },
  {
   "cell_type": "code",
   "execution_count": null,
   "id": "01ecef4b-b1de-4e8c-b85a-0caf5978b533",
   "metadata": {},
   "outputs": [],
   "source": []
  }
 ],
 "metadata": {
  "kernelspec": {
   "display_name": "Python 3 (ipykernel)",
   "language": "python",
   "name": "python3"
  },
  "language_info": {
   "codemirror_mode": {
    "name": "ipython",
    "version": 3
   },
   "file_extension": ".py",
   "mimetype": "text/x-python",
   "name": "python",
   "nbconvert_exporter": "python",
   "pygments_lexer": "ipython3",
   "version": "3.12.7"
  }
 },
 "nbformat": 4,
 "nbformat_minor": 5
}
